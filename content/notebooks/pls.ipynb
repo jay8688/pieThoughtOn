{
 "cells": [
  {
   "cell_type": "code",
   "execution_count": 99,
   "metadata": {
    "collapsed": false
   },
   "outputs": [
    {
     "name": "stdout",
     "output_type": "stream",
     "text": [
      "[[ 7  7 13  7]\n",
      " [ 4  3 14  7]\n",
      " [10  5 12  5]\n",
      " [16  7 11  3]\n",
      " [13  3 10  3]]\n",
      "[[14  7  8]\n",
      " [10  7  6]\n",
      " [ 8  5  5]\n",
      " [ 2  4  7]\n",
      " [ 6  2  4]]\n",
      "[[-0.71  1.12  0.71  1.12]\n",
      " [-1.41 -1.12  1.41  1.12]\n",
      " [ 0.    0.    0.    0.  ]\n",
      " [ 1.41  1.12 -0.71 -1.12]\n",
      " [ 0.71 -1.12 -1.41 -1.12]]\n",
      "[[ 1.5   1.05  1.41]\n",
      " [ 0.5   1.05  0.  ]\n",
      " [ 0.    0.   -0.71]\n",
      " [-1.5  -0.53  0.71]\n",
      " [-0.5  -1.58 -1.41]]\n",
      "[[-0.63  1.    0.63  1.  ]\n",
      " [-1.26 -1.    1.26  1.  ]\n",
      " [ 0.    0.    0.    0.  ]\n",
      " [ 1.26  1.   -0.63 -1.  ]\n",
      " [ 0.63 -1.   -1.26 -1.  ]]\n",
      "[[ 1.74  1.44  1.37]\n",
      " [ 0.08  0.63 -0.1 ]\n",
      " [-0.03 -0.34 -0.68]\n",
      " [-1.21 -0.2   0.86]\n",
      " [-0.58 -1.52 -1.45]]\n"
     ]
    },
    {
     "name": "stderr",
     "output_type": "stream",
     "text": [
      "/home/jay/anaconda3/envs/python3/lib/python3.5/site-packages/sklearn/utils/validation.py:429: DataConversionWarning: Data with input dtype int64 was converted to float64 by the scale function.\n",
      "  warnings.warn(msg, _DataConversionWarning)\n"
     ]
    }
   ],
   "source": [
    "import numpy as np\n",
    "from sklearn.cross_decomposition import PLSRegression\n",
    "from sklearn import preprocessing\n",
    "X = np.array([[7,7,13,7],[4,3,14,7],[10,5,12,5],[16,7,11,3],[13,3,10,3]])\n",
    "Y = np.array([[14,7,8],[10,7,6],[8,5,5],[2,4,7],[6,2,4]])\n",
    "X_scaled = preprocessing.scale(X)\n",
    "Y_scaled = preprocessing.scale(Y)\n",
    "pls2 = PLSRegression(n_components=3)\n",
    "pls2.fit(X,Y)\n",
    "T = pls2.x_scores_\n",
    "P = pls2.x_loadings_\n",
    "U = pls2.y_scores_\n",
    "Q = pls2.y_loadings_\n",
    "W = pls2.x_weights_\n",
    "C = pls2.y_weights_\n",
    "X_hat = np.dot(T, P.T)\n",
    "Y_hat = np.dot(U, Q.T)\n",
    "print(X)\n",
    "print(Y)\n",
    "print(X_scaled)\n",
    "print(Y_scaled)\n",
    "print(X_hat)\n",
    "print(Y_hat)"
   ]
  },
  {
   "cell_type": "code",
   "execution_count": 106,
   "metadata": {
    "collapsed": false
   },
   "outputs": [
    {
     "name": "stdout",
     "output_type": "stream",
     "text": [
      "[[  1.09e+01  -4.44e-16  -5.00e-16]\n",
      " [ -4.44e-16   4.46e+00   0.00e+00]\n",
      " [ -5.00e-16   0.00e+00   2.65e-01]]\n",
      "[[  1.00e+00   7.63e-17  -1.67e-16]\n",
      " [  7.63e-17   1.00e+00  -4.16e-17]\n",
      " [ -1.67e-16  -4.16e-17   1.00e+00]]\n"
     ]
    }
   ],
   "source": [
    "np.set_printoptions(precision=2)\n",
    "print(np.dot(T.T, T))\n",
    "print(np.dot(W.T, W))"
   ]
  },
  {
   "cell_type": "code",
   "execution_count": 96,
   "metadata": {
    "collapsed": false
   },
   "outputs": [
    {
     "name": "stdout",
     "output_type": "stream",
     "text": [
      "[ 1.12  1.12   nan  1.12  1.12]\n",
      "[ 0.78  0.78  0.78  0.78  0.78]\n"
     ]
    },
    {
     "name": "stderr",
     "output_type": "stream",
     "text": [
      "/home/jay/anaconda3/envs/python3/lib/python3.5/site-packages/ipykernel/__main__.py:3: RuntimeWarning: invalid value encountered in true_divide\n",
      "  app.launch_new_instance()\n"
     ]
    },
    {
     "data": {
      "text/plain": [
       "(array([[ 1.5 ,  0.98, -0.29],\n",
       "        [ 1.78, -1.04,  0.24],\n",
       "        [ 0.  ,  0.  ,  0.  ],\n",
       "        [-1.42,  1.12,  0.27],\n",
       "        [-1.86, -1.07, -0.22]]), array([[ 2.32,  0.99, -0.28],\n",
       "        [ 1.12, -0.69,  0.25],\n",
       "        [-0.28, -0.79, -0.04],\n",
       "        [-1.09,  1.5 ,  0.28],\n",
       "        [-2.07, -1.01, -0.21]]))"
      ]
     },
     "execution_count": 96,
     "metadata": {},
     "output_type": "execute_result"
    }
   ],
   "source": [
    "print(np.dot(X_scaled, W[:,0]) / T[:,0])\n",
    "print(np.dot(Y_scaled, C[:,0]) / U[:,0])"
   ]
  },
  {
   "cell_type": "code",
   "execution_count": 108,
   "metadata": {
    "collapsed": false
   },
   "outputs": [
    {
     "name": "stdout",
     "output_type": "stream",
     "text": [
      "[[ 1.5   0.98 -0.29]\n",
      " [ 1.78 -1.04  0.24]\n",
      " [ 0.    0.    0.  ]\n",
      " [-1.42  1.12  0.27]\n",
      " [-1.86 -1.07 -0.22]]\n",
      "[[ 2.32  0.99 -0.28]\n",
      " [ 1.12 -0.69  0.25]\n",
      " [-0.28 -0.79 -0.04]\n",
      " [-1.09  1.5   0.28]\n",
      " [-2.07 -1.01 -0.21]]\n"
     ]
    }
   ],
   "source": [
    "print(T)\n",
    "print(U)"
   ]
  },
  {
   "cell_type": "code",
   "execution_count": 80,
   "metadata": {
    "collapsed": false
   },
   "outputs": [
    {
     "data": {
      "text/plain": [
       "array([ 0.93,  0.34,  1.54,  0.43,  0.79])"
      ]
     },
     "execution_count": 80,
     "metadata": {},
     "output_type": "execute_result"
    }
   ],
   "source": [
    "(np.dot(C[:,0].T,C[:,0]) * U[:,0]+np.dot(C[:,1].T,C[:,0])*U[:,1]+ np.dot(C[:,2].T,C[:,0])*U[:,2])/U[:,0]"
   ]
  },
  {
   "cell_type": "code",
   "execution_count": 91,
   "metadata": {
    "collapsed": false
   },
   "outputs": [
    {
     "data": {
      "text/plain": [
       "array([[ 1.53,  1.48],\n",
       "       [ 2.43,  2.36],\n",
       "       [ 6.26,  6.27],\n",
       "       [ 8.88,  9.  ]])"
      ]
     },
     "execution_count": 91,
     "metadata": {},
     "output_type": "execute_result"
    }
   ],
   "source": [
    "from sklearn.cross_decomposition import PLSRegression\n",
    "X = [[0., 0., 1.], [1.,0.,0.], [2.,2.,2.], [2.,5.,4.]]\n",
    "Y = [[0.1, -0.2], [0.9, 1.1], [6.2, 5.9], [11.9, 12.3]]\n",
    "pls2 = PLSRegression(n_components=2)\n",
    "pls2.fit(X, Y)\n",
    "Y_pred = pls2.predict(X)\n",
    "Y_pred"
   ]
  }
 ],
 "metadata": {
  "anaconda-cloud": {},
  "kernelspec": {
   "display_name": "Python [conda env:python3]",
   "language": "python",
   "name": "conda-env-python3-py"
  },
  "language_info": {
   "codemirror_mode": {
    "name": "ipython",
    "version": 3
   },
   "file_extension": ".py",
   "mimetype": "text/x-python",
   "name": "python",
   "nbconvert_exporter": "python",
   "pygments_lexer": "ipython3",
   "version": "3.5.2"
  }
 },
 "nbformat": 4,
 "nbformat_minor": 1
}
